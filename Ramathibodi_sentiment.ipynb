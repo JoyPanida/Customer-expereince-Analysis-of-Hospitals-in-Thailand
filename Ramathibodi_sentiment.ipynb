{
  "nbformat": 4,
  "nbformat_minor": 0,
  "metadata": {
    "kernelspec": {
      "display_name": "Python 3",
      "language": "python",
      "name": "python3"
    },
    "language_info": {
      "codemirror_mode": {
        "name": "ipython",
        "version": 3
      },
      "file_extension": ".py",
      "mimetype": "text/x-python",
      "name": "python",
      "nbconvert_exporter": "python",
      "pygments_lexer": "ipython3",
      "version": "3.7.3"
    },
    "colab": {
      "name": "Ramathibodi_sentiment.ipynb",
      "provenance": [],
      "collapsed_sections": [],
      "include_colab_link": true
    }
  },
  "cells": [
    {
      "cell_type": "markdown",
      "metadata": {
        "id": "view-in-github",
        "colab_type": "text"
      },
      "source": [
        "<a href=\"https://colab.research.google.com/github/JoyPanida/Customer-expereince-Analysis-of-Hospitals-in-Thailand/blob/main/Ramathibodi_sentiment.ipynb\" target=\"_parent\"><img src=\"https://colab.research.google.com/assets/colab-badge.svg\" alt=\"Open In Colab\"/></a>"
      ]
    },
    {
      "cell_type": "markdown",
      "metadata": {
        "id": "mc73cXsU8YQl"
      },
      "source": [
        "## **Sentiment Customer Experience Review**\r\n",
        "\r\n",
        "\r\n",
        "\r\n",
        "\r\n"
      ]
    },
    {
      "cell_type": "code",
      "metadata": {
        "id": "m6Vn-a37XI0F",
        "colab": {
          "base_uri": "https://localhost:8080/"
        },
        "outputId": "df198077-7d15-4ede-f220-01eab49c8b4c"
      },
      "source": [
        "from google.colab import drive\n",
        "drive.mount('/content/gdrive')"
      ],
      "execution_count": null,
      "outputs": [
        {
          "output_type": "stream",
          "text": [
            "Mounted at /content/gdrive\n"
          ],
          "name": "stdout"
        }
      ]
    },
    {
      "cell_type": "code",
      "metadata": {
        "id": "KbhqH6QibdjR",
        "colab": {
          "base_uri": "https://localhost:8080/"
        },
        "outputId": "98d38ea9-cc91-496e-d519-39a5e0ba21d7"
      },
      "source": [
        "import os \n",
        "dir_path = os.path.dirname(os.path.realpath('/content/gdrive/My Drive/Colab Notebooks/multinomial_nb_Model.pkl'))\n",
        "print(dir_path )"
      ],
      "execution_count": null,
      "outputs": [
        {
          "output_type": "stream",
          "text": [
            "/content/gdrive/My Drive/Colab Notebooks\n"
          ],
          "name": "stdout"
        }
      ]
    },
    {
      "cell_type": "markdown",
      "metadata": {
        "id": "ifkJ3jILxAuu"
      },
      "source": [
        "## **Import Library**"
      ]
    },
    {
      "cell_type": "code",
      "metadata": {
        "id": "EZE0x2AT8YQm",
        "colab": {
          "base_uri": "https://localhost:8080/"
        },
        "outputId": "eddb93c4-04e2-4321-ad1c-a3e4610455c9"
      },
      "source": [
        "#Utils\n",
        "import numpy as np\n",
        "import pandas as pd\n",
        "import matplotlib.pyplot as plt\n",
        "import re\n",
        "from tqdm import tqdm\n",
        "#NLP\n",
        "import nltk\n",
        "from nltk import sent_tokenize, word_tokenize, RegexpParser\n",
        "from nltk.sentiment.util import mark_negation\n",
        "from nltk.corpus import stopwords, wordnet\n",
        "from nltk.stem.wordnet import WordNetLemmatizer \n",
        "from nltk.tag import pos_tag\n",
        "nltk.download('punkt')\n",
        "nltk.download('stopwords')\n",
        "nltk.download('averaged_perceptron_tagger')\n",
        "nltk.download('wordnet')\n",
        "\n",
        "#Machine Learning\n",
        "from sklearn.model_selection import GridSearchCV, StratifiedKFold, train_test_split\n",
        "from sklearn.feature_extraction.text import TfidfVectorizer, CountVectorizer\n",
        "from sklearn.pipeline import Pipeline\n",
        "from sklearn.naive_bayes import MultinomialNB\n",
        "from sklearn.naive_bayes import MultinomialNB\n",
        "from sklearn.ensemble import RandomForestClassifier\n",
        "from sklearn.svm import SVC\n",
        "\n",
        "# metrix classification\n",
        "from sklearn.metrics import precision_recall_fscore_support\n",
        "from sklearn.metrics import accuracy_score, classification_report\n",
        "\n",
        "#WordCloud\n",
        "from wordcloud import WordCloud\n",
        "\n",
        "# metric\n",
        "from sklearn.metrics import classification_report"
      ],
      "execution_count": null,
      "outputs": [
        {
          "output_type": "stream",
          "text": [
            "/usr/local/lib/python3.6/dist-packages/nltk/twitter/__init__.py:20: UserWarning: The twython library has not been installed. Some functionality from the twitter package will not be available.\n",
            "  warnings.warn(\"The twython library has not been installed. \"\n"
          ],
          "name": "stderr"
        },
        {
          "output_type": "stream",
          "text": [
            "[nltk_data] Downloading package punkt to /root/nltk_data...\n",
            "[nltk_data]   Unzipping tokenizers/punkt.zip.\n",
            "[nltk_data] Downloading package stopwords to /root/nltk_data...\n",
            "[nltk_data]   Unzipping corpora/stopwords.zip.\n",
            "[nltk_data] Downloading package averaged_perceptron_tagger to\n",
            "[nltk_data]     /root/nltk_data...\n",
            "[nltk_data]   Unzipping taggers/averaged_perceptron_tagger.zip.\n",
            "[nltk_data] Downloading package wordnet to /root/nltk_data...\n",
            "[nltk_data]   Unzipping corpora/wordnet.zip.\n"
          ],
          "name": "stdout"
        }
      ]
    },
    {
      "cell_type": "code",
      "metadata": {
        "id": "MS37fch08YQt"
      },
      "source": [
        "def predict_sentiment(estimator, df):\n",
        "  sentiments = []\n",
        "  for sentence in df[\"reviews_en\"]: \n",
        "    sentiment = estimator.predict([sentence])\n",
        "    if sentiment == 1:\n",
        "      sentiment = \"positive\"\n",
        "    else:\n",
        "      sentiment = \"negative\"\n",
        "    sentiments.append( sentiment ) \n",
        "  return sentiments"
      ],
      "execution_count": null,
      "outputs": []
    },
    {
      "cell_type": "code",
      "metadata": {
        "id": "KND_tRV58YQw"
      },
      "source": [
        "def plural2singular(word):\n",
        "  if word == \"doctors\":\n",
        "    return \"doctor\"\n",
        "  elif word == \"nurses\":\n",
        "    return \"nurse\"\n",
        "  elif word == \"clinics\":\n",
        "    return \"clinic\"\n",
        "  elif word == \"hospitals\":\n",
        "    return \"hospital\"\n",
        "  elif word == \"services\":\n",
        "    return \"service\"\n",
        "  elif word == \"staffs\":\n",
        "    return \"staff\"\n",
        "  elif word == \"treatments\":\n",
        "    return \"treatment\"\n",
        "  elif word == \"students\":\n",
        "    return \"student\"\n",
        "  else:\n",
        "    return word"
      ],
      "execution_count": null,
      "outputs": []
    },
    {
      "cell_type": "code",
      "metadata": {
        "id": "1CqiCYto8YQy"
      },
      "source": [
        "def create_parsed_trees(df):\n",
        "  # Define your custom grammar (modified to be a valid regex)\n",
        "  grammar = \"\"\"NP: {<NN|NNS>+}\n",
        "                 {<NN|NNS>+<CC><NN|NNS>+}\"\"\"\n",
        "\n",
        "   # Create an instance of your custom parser              \n",
        "  chunker = RegexpParser(grammar)\n",
        "\n",
        "  \n",
        "  parse_trees = []\n",
        "  for sentence in df['reviews_en']:\n",
        "      parse_trees.append(chunker.parse(pos_tag(word_tokenize(sentence))))\n",
        "  return parse_trees"
      ],
      "execution_count": null,
      "outputs": []
    },
    {
      "cell_type": "code",
      "metadata": {
        "id": "bSu6eih48YQ1"
      },
      "source": [
        "def extract_noun_phrases(parsed_trees):\n",
        "    nps = []\n",
        "    for parsed_tree in parsed_trees:\n",
        "      np = []\n",
        "      for subtree in parsed_tree.subtrees():\n",
        "          if subtree.label() == 'NP':\n",
        "              t = subtree\n",
        "              t = \" \".join(word for word, tag in t.leaves())\n",
        "              np.append(t)\n",
        "      nps.append(np)\n",
        "    return nps"
      ],
      "execution_count": null,
      "outputs": []
    },
    {
      "cell_type": "code",
      "metadata": {
        "id": "pU60MoXD8YQ3"
      },
      "source": [
        "def vizwordcloud(df, colormap = 'viridis'):\n",
        "    tuples = [tuple(x) for x in df.values]\n",
        "    wordcloud = WordCloud(width=1000,height=800,colormap=colormap,max_words=100).generate_from_frequencies(dict(tuples))\n",
        "    plt.figure(figsize=(20,10))\n",
        "    plt.imshow(wordcloud, interpolation=\"bilinear\")\n",
        "    plt.axis(\"off\")\n",
        "    plt.show()"
      ],
      "execution_count": null,
      "outputs": []
    },
    {
      "cell_type": "code",
      "metadata": {
        "id": "NeXgZCz88YQ6"
      },
      "source": [
        "def get_data_for_wordcloud(df, sentiment):\n",
        "  sentiment_only = df[df[\"sentiments\"] == sentiment].reset_index(drop=True)\n",
        "  words = sum(sentiment_only[\"NP\"].tolist(), [])\n",
        "  words = [word.lower() for word in words]\n",
        "  words = [plural2singular(word) for word in words]\n",
        "  hist = pd.DataFrame({\"words\": words})\n",
        "  short_sentiment = sentiment[0:3]\n",
        "  hist = hist.groupby(\"words\").size().reset_index(name=\"#\"+short_sentiment)\n",
        "  return hist"
      ],
      "execution_count": null,
      "outputs": []
    },
    {
      "cell_type": "code",
      "metadata": {
        "id": "mdbV9iT38YQ9"
      },
      "source": [
        "def extract_sentences(df):\n",
        "  sentences = []\n",
        "  scores = []\n",
        "  dates = []\n",
        "  for index, row in df.iterrows():\n",
        "    en = row[\"reviews_en\"]\n",
        "    score = row[\"ratings\"]\n",
        "    date = row[\"dates\"]\n",
        "    \n",
        "    s = sent_tokenize(en)\n",
        "    sentences= sentences + s\n",
        "    scores = scores + [score]*len(s)\n",
        "    dates = dates + [date]*len(s)\n",
        "   \n",
        "  return pd.DataFrame({\"reviews_en\": sentences, \"ratings\": scores, 'dates':dates})"
      ],
      "execution_count": null,
      "outputs": []
    },
    {
      "cell_type": "code",
      "metadata": {
        "id": "B8-pDwNR8YQ_"
      },
      "source": [
        "\"\"\"\n",
        "        Preprocessing text for TfidfVectorizer\n",
        "          - remove non-character\n",
        "          - tokenization\n",
        "          - stopword removal\n",
        "          - lemmatization\n",
        "        Parameters\n",
        "        ----------\n",
        "        reviews : list\n",
        "             reviews of customer in hospital\n",
        "        Return\n",
        "        ----------\n",
        "        cleaned_reviews : list\n",
        "             Preprocessed Reviews  \n",
        "\"\"\"\n",
        "def preprocess_review(reviews): \n",
        "    cleaned_reviews = []\n",
        "    for review in reviews:\n",
        "        review = re.sub(\"[^a-zA-Z]\", \" \", review)\n",
        "        words = word_tokenize(review) \n",
        "        tokenized_words = [(word.lower()).strip() for word in words if word not in stopwords.words(\"english\")]\n",
        "        lemmatized_word = lemmatize_word(tokenized_words)\n",
        "        \n",
        "        cleaned_reviews.append(lemmatized_word)\n",
        "    return cleaned_reviews"
      ],
      "execution_count": null,
      "outputs": []
    },
    {
      "cell_type": "code",
      "metadata": {
        "id": "Wuj2yiR-8YRD"
      },
      "source": [
        "def get_wordnet_pos(tag):\n",
        "    if tag.startswith('J'):\n",
        "        return wordnet.ADJ\n",
        "    elif tag.startswith('V'):\n",
        "        return wordnet.VERB\n",
        "    elif tag.startswith('N'):\n",
        "        return wordnet.NOUN\n",
        "    elif tag.startswith('R'):\n",
        "        return wordnet.ADV\n",
        "    else:\n",
        "        return 'a'"
      ],
      "execution_count": null,
      "outputs": []
    },
    {
      "cell_type": "code",
      "metadata": {
        "id": "V7Fl60BL8YRB"
      },
      "source": [
        "def lemmatize_word(tokenized_words): \n",
        "    lemmatizer = WordNetLemmatizer() \n",
        "    lemmatized_words = []\n",
        "    for word, tag in pos_tag(tokenized_words):\n",
        "        pos = get_wordnet_pos(tag)\n",
        "        lemmatized_words.append(lemmatizer.lemmatize(word, pos))\n",
        "    lemmatized_words = ' '.join([str(word) for word in lemmatized_words]) \n",
        "    return lemmatized_words"
      ],
      "execution_count": null,
      "outputs": []
    },
    {
      "cell_type": "code",
      "metadata": {
        "id": "p8V4f3IG8YRG"
      },
      "source": [
        "def groups(word):\n",
        "\n",
        "    if (\"doctor\" in  word) or (\"nurse\"  in word) or  (\"student\" in word) or (\"guard\" in word) or (\"staff\" in word) or (\"guard\"  in word) :\n",
        "        return \"staff\"\n",
        "    elif (\"hospital\" in word) or (\"clinic\" in word) or (\"equipment\" in word) or (\"place\" in word) or (\"building\" in word) or (\"room\" in word) :\n",
        "        return \"infrastructure\"\n",
        "    elif (\"care\"in word) or (\"treatment\"in word) or ( \"advice\"in word) or (\"surgery\" in word) or (\"disease\"in word) or (\"medical care\" in word) or ( \"service\"in word) or (\"responsibility\"in word) or (\"manner\" in word) or (\"talking\" in word)  :\n",
        "        return \"service\"\n",
        "    elif (\"queue\"in word) or  (\"appointment\"in word) or (\"process\"in word) or (\"management\" in word) or (\"schedule\"in word) :\n",
        "        return \"process\"\n",
        "    elif (\"price\" in word) or ( \"claim\"in word):\n",
        "        return \"finance\"\n",
        "    else:\n",
        "        return \"others\""
      ],
      "execution_count": null,
      "outputs": []
    },
    {
      "cell_type": "code",
      "metadata": {
        "id": "Jo79BjfV8YRJ"
      },
      "source": [
        "def  catagory_pos(pos_df):\n",
        "    pos_df[\"category\"] = pos_df[\"words\"].apply(lambda x: groups(x))\n",
        "    hos_poscount = pos_df.groupby(\"category\").size().reset_index(name=\"count_pos\")\n",
        "    hos_poscount = hos_poscount[hos_poscount[\"category\"] != \"others\"].reset_index(drop=True)\n",
        "    return hos_poscount"
      ],
      "execution_count": null,
      "outputs": []
    },
    {
      "cell_type": "code",
      "metadata": {
        "id": "u74iiv6j8YRL"
      },
      "source": [
        "def  catagory_neg(neg_df):\n",
        "    neg_df [\"category\"] = neg_df[\"words\"].apply(lambda x: groups(x))\n",
        "    hos_negcount = neg_df.groupby(\"category\").size().reset_index(name=\"count_neg\")\n",
        "    hos_negcount =  hos_negcount[ hos_negcount[\"category\"] != \"others\"].reset_index(drop=True)\n",
        "    return hos_negcount"
      ],
      "execution_count": null,
      "outputs": []
    },
    {
      "cell_type": "code",
      "metadata": {
        "id": "QhoyaOpWJhzo"
      },
      "source": [
        "def train_multinomial_nb(X_train, X_test, y_train, y_test):\n",
        "     \n",
        "    tfidf_vectorizer = TfidfVectorizer()\n",
        "    multinomial_nb_clf = MultinomialNB()\n",
        "    multinomial_naive_bayes_pipeline = Pipeline([\n",
        "            ('tfidf', tfidf_vectorizer),\n",
        "            ('classifier', multinomial_nb_clf)\n",
        "    ])\n",
        "    multinomial_naive_bayes_params = {}\n",
        "    grid = GridSearchCV(multinomial_naive_bayes_pipeline, param_grid = multinomial_naive_bayes_params, cv = 10, scoring = 'roc_auc')\n",
        "    grid.fit(X_train, y_train)\n",
        "     \n",
        "    print(\"Best Score : %.2f\" %  grid.best_score_)\n",
        "    print(\"Best Params : \")\n",
        "    print(grid.best_params_)\n",
        "    \n",
        "    y_pred = grid.predict(X_test)\n",
        "    print(\"Accuracy : %.2f\" % accuracy_score(y_test, y_pred))\n",
        "    print(classification_report(y_test, y_pred))\n",
        "    return grid.best_estimator_"
      ],
      "execution_count": null,
      "outputs": []
    },
    {
      "cell_type": "code",
      "metadata": {
        "id": "3t0C4uAcdeCX"
      },
      "source": [
        "# def train_random_forest(X_train, X_test, y_train, y_test):\n",
        "    \n",
        "#     tfidf_vectorizer = TfidfVectorizer()\n",
        "#     rf_clf =  RandomForestClassifier(random_state=2020, class_weight=\"balanced\")\n",
        "#     rf_pipeline = Pipeline([\n",
        "#             ('tfidf', tfidf_vectorizer),\n",
        "#             ('classifier', rf_clf)\n",
        "#     ])\n",
        "#     rf_params = {\n",
        "#         \"classifier__n_estimators\": range(50, 200, 50),\n",
        "#         \"classifier__max_depth\": range(2, 10, 2), \n",
        "#         \"classifier__min_samples_leaf\": range(1, 4)\n",
        "#     }\n",
        "#     grid = GridSearchCV(rf_pipeline, param_grid=rf_params, cv=10, scoring='roc_auc')\n",
        "#     grid.fit(X_train, y_train) \n",
        "    \n",
        "#     print(\"Best Score : %.2f\" %  grid.best_score_)\n",
        "#     print(\"Best Params : \")\n",
        "#     print(grid.best_params_)\n",
        "    \n",
        "#     y_pred = grid.predict(X_test)\n",
        "#     print(\"Accuracy : %.2f\" % accuracy_score(y_test, y_pred))\n",
        "#     print(classification_report(y_test, y_pred))\n",
        "#     return grid.best_estimator_"
      ],
      "execution_count": null,
      "outputs": []
    },
    {
      "cell_type": "markdown",
      "metadata": {
        "id": "wTBbZOTPDGzY"
      },
      "source": [
        "# **Load the dataset**"
      ]
    },
    {
      "cell_type": "code",
      "metadata": {
        "id": "PLa7VJV1C9es"
      },
      "source": [
        "df = pd.read_csv(\"/content/gdrive/My Drive/Colab Notebooks/Thesis_Text Analytics/train_test_data_combine_translated.csv\", index_col=False, header = 0, names = ['reviews', \t'ratings', \t'dates', \t'reviews_en'])"
      ],
      "execution_count": null,
      "outputs": []
    },
    {
      "cell_type": "code",
      "metadata": {
        "id": "TKZCrvVtJ9IH",
        "colab": {
          "base_uri": "https://localhost:8080/",
          "height": 194
        },
        "outputId": "7d48e66c-10d9-4612-aa98-415887dda42e"
      },
      "source": [
        "df.head()"
      ],
      "execution_count": null,
      "outputs": [
        {
          "output_type": "execute_result",
          "data": {
            "text/html": [
              "<div>\n",
              "<style scoped>\n",
              "    .dataframe tbody tr th:only-of-type {\n",
              "        vertical-align: middle;\n",
              "    }\n",
              "\n",
              "    .dataframe tbody tr th {\n",
              "        vertical-align: top;\n",
              "    }\n",
              "\n",
              "    .dataframe thead th {\n",
              "        text-align: right;\n",
              "    }\n",
              "</style>\n",
              "<table border=\"1\" class=\"dataframe\">\n",
              "  <thead>\n",
              "    <tr style=\"text-align: right;\">\n",
              "      <th></th>\n",
              "      <th>reviews</th>\n",
              "      <th>ratings</th>\n",
              "      <th>dates</th>\n",
              "      <th>reviews_en</th>\n",
              "    </tr>\n",
              "  </thead>\n",
              "  <tbody>\n",
              "    <tr>\n",
              "      <th>0</th>\n",
              "      <td>เรียนผู้อำนวยการศูนย์คลีนิคเวชกรรมอนันต์พัฒนา1...</td>\n",
              "      <td>0</td>\n",
              "      <td>2018-10-09 17:28:00</td>\n",
              "      <td>Dear Director of Anan Pattana 1 Clinic Center ...</td>\n",
              "    </tr>\n",
              "    <tr>\n",
              "      <th>1</th>\n",
              "      <td>โรงพยาบาลเล็กและดูเก่าเครื่องมือก็ดูจะไม่ทันสม...</td>\n",
              "      <td>0</td>\n",
              "      <td>2017-02-01 20:55:00</td>\n",
              "      <td>The hospital is small and looks old, the equip...</td>\n",
              "    </tr>\n",
              "    <tr>\n",
              "      <th>2</th>\n",
              "      <td>เจ้าหน้าให้ความสนใจต่อคนไข้เป็นอย่างดี</td>\n",
              "      <td>1</td>\n",
              "      <td>2017-01-07 08:02:00</td>\n",
              "      <td>The staff pay good attention to the patients.</td>\n",
              "    </tr>\n",
              "    <tr>\n",
              "      <th>3</th>\n",
              "      <td>คุณหมอใส่ใจดีมาก ไปมา3ครั้งสิวหายทั้งหลังเลย.ค...</td>\n",
              "      <td>1</td>\n",
              "      <td>2018-09-09 22:21:00</td>\n",
              "      <td>The doctor was very attentive. Came 3 times, m...</td>\n",
              "    </tr>\n",
              "    <tr>\n",
              "      <th>4</th>\n",
              "      <td>คุณหมอใส่ใจดีมาก ไปมา3ครั้งสิวหายทั้งหลังเลย.ค...</td>\n",
              "      <td>1</td>\n",
              "      <td>2018-09-09 22:20:00</td>\n",
              "      <td>The doctor was very attentive. Came 3 times, m...</td>\n",
              "    </tr>\n",
              "  </tbody>\n",
              "</table>\n",
              "</div>"
            ],
            "text/plain": [
              "                                             reviews  ...                                         reviews_en\n",
              "0  เรียนผู้อำนวยการศูนย์คลีนิคเวชกรรมอนันต์พัฒนา1...  ...  Dear Director of Anan Pattana 1 Clinic Center ...\n",
              "1  โรงพยาบาลเล็กและดูเก่าเครื่องมือก็ดูจะไม่ทันสม...  ...  The hospital is small and looks old, the equip...\n",
              "2             เจ้าหน้าให้ความสนใจต่อคนไข้เป็นอย่างดี  ...      The staff pay good attention to the patients.\n",
              "3  คุณหมอใส่ใจดีมาก ไปมา3ครั้งสิวหายทั้งหลังเลย.ค...  ...  The doctor was very attentive. Came 3 times, m...\n",
              "4  คุณหมอใส่ใจดีมาก ไปมา3ครั้งสิวหายทั้งหลังเลย.ค...  ...  The doctor was very attentive. Came 3 times, m...\n",
              "\n",
              "[5 rows x 4 columns]"
            ]
          },
          "metadata": {
            "tags": []
          },
          "execution_count": 20
        }
      ]
    },
    {
      "cell_type": "code",
      "metadata": {
        "id": "etsU2t5tE2kS",
        "colab": {
          "base_uri": "https://localhost:8080/"
        },
        "outputId": "fc01e918-5650-4d98-8456-8e716799a8fe"
      },
      "source": [
        "df.shape"
      ],
      "execution_count": null,
      "outputs": [
        {
          "output_type": "execute_result",
          "data": {
            "text/plain": [
              "(4055, 4)"
            ]
          },
          "metadata": {
            "tags": []
          },
          "execution_count": 21
        }
      ]
    },
    {
      "cell_type": "code",
      "metadata": {
        "id": "hZVc2pzNPAUZ",
        "colab": {
          "base_uri": "https://localhost:8080/"
        },
        "outputId": "3398763e-67be-473a-937d-290ef4c07b64"
      },
      "source": [
        "df[\"ratings\"].value_counts()"
      ],
      "execution_count": null,
      "outputs": [
        {
          "output_type": "execute_result",
          "data": {
            "text/plain": [
              "1    2997\n",
              "0    1058\n",
              "Name: ratings, dtype: int64"
            ]
          },
          "metadata": {
            "tags": []
          },
          "execution_count": 22
        }
      ]
    },
    {
      "cell_type": "code",
      "metadata": {
        "id": "XH8B8VOtOofH",
        "colab": {
          "base_uri": "https://localhost:8080/",
          "height": 303
        },
        "outputId": "3cfe00d3-6d8e-4a4c-9b23-c7a5b0eb002c"
      },
      "source": [
        "df['ratings'].value_counts().plot(kind='bar');\n",
        "plt.xlabel(\"Class of ratings\", labelpad=14)\n",
        "plt.ylabel(\"Count\", labelpad=14)"
      ],
      "execution_count": null,
      "outputs": [
        {
          "output_type": "execute_result",
          "data": {
            "text/plain": [
              "Text(0, 0.5, 'Count')"
            ]
          },
          "metadata": {
            "tags": []
          },
          "execution_count": 23
        },
        {
          "output_type": "display_data",
          "data": {
            "image/png": "[encoded data removed]",
            "text/plain": [
              "<Figure size 432x288 with 1 Axes>"
            ]
          },
          "metadata": {
            "tags": [],
            "needs_background": "light"
          }
        }
      ]
    },
    {
      "cell_type": "markdown",
      "metadata": {
        "id": "W3DSswmzJ1fe"
      },
      "source": [
        "## **Data Preprocessing**"
      ]
    },
    {
      "cell_type": "markdown",
      "metadata": {
        "id": "pdhY59THZTwA"
      },
      "source": [
        "**Text processing  &  Train_Test  data processing**"
      ]
    },
    {
      "cell_type": "code",
      "metadata": {
        "id": "udT03bL-J66e"
      },
      "source": [
        "train_test_data = df.iloc[:]\n",
        "train_test_data = train_test_data.reset_index()\n",
        "train_test_data = extract_sentences(train_test_data) \n",
        "train_test_data[\"cleaned_reviews\"] = preprocess_review(train_test_data[\"reviews_en\"])"
      ],
      "execution_count": null,
      "outputs": []
    },
    {
      "cell_type": "code",
      "metadata": {
        "id": "QV5ip8FlKVh3"
      },
      "source": [
        "X = train_test_data[\"cleaned_reviews\"]\n",
        "y = train_test_data[\"ratings\"]"
      ],
      "execution_count": null,
      "outputs": []
    },
    {
      "cell_type": "markdown",
      "metadata": {
        "id": "dfzSwgQIZhsv"
      },
      "source": [
        "## **Model training**"
      ]
    },
    {
      "cell_type": "markdown",
      "metadata": {
        "id": "q80CejtxKd6v"
      },
      "source": [
        " **Multinomial Naive Bayes**"
      ]
    },
    {
      "cell_type": "code",
      "metadata": {
        "id": "SCwAhs2kKYwZ"
      },
      "source": [
        "X_train, X_test, y_train, y_test = train_test_split(X, y, test_size = 0.3, random_state = 2020)"
      ],
      "execution_count": null,
      "outputs": []
    },
    {
      "cell_type": "code",
      "metadata": {
        "id": "8d98rkvPLmU2",
        "colab": {
          "base_uri": "https://localhost:8080/"
        },
        "outputId": "09fd1abb-558a-4a30-d01c-262f7b41e0f1"
      },
      "source": [
        "multinomial_nb_classifier = train_multinomial_nb(X_train, X_test, y_train, y_test)"
      ],
      "execution_count": null,
      "outputs": [
        {
          "output_type": "stream",
          "text": [
            "Best Score : 0.85\n",
            "Best Params : \n",
            "{}\n",
            "Accuracy : 0.78\n",
            "              precision    recall  f1-score   support\n",
            "\n",
            "           0       0.75      0.39      0.51      1344\n",
            "           1       0.78      0.95      0.86      3127\n",
            "\n",
            "    accuracy                           0.78      4471\n",
            "   macro avg       0.77      0.67      0.69      4471\n",
            "weighted avg       0.77      0.78      0.75      4471\n",
            "\n"
          ],
          "name": "stdout"
        }
      ]
    },
    {
      "cell_type": "code",
      "metadata": {
        "id": "_Pka6I-pc7Ld",
        "colab": {
          "base_uri": "https://localhost:8080/"
        },
        "outputId": "b036ca31-6081-4133-f910-6c1914c6010e"
      },
      "source": [
        "random_forest_classifier = train_random_forest(X_train, X_test, y_train, y_test)"
      ],
      "execution_count": null,
      "outputs": [
        {
          "output_type": "stream",
          "text": [
            "Best Score : 0.82\n",
            "Best Params : \n",
            "{'classifier__max_depth': 8, 'classifier__min_samples_leaf': 1, 'classifier__n_estimators': 150}\n",
            "Accuracy : 0.70\n",
            "              precision    recall  f1-score   support\n",
            "\n",
            "           0       0.50      0.84      0.63      1344\n",
            "           1       0.90      0.64      0.75      3127\n",
            "\n",
            "    accuracy                           0.70      4471\n",
            "   macro avg       0.70      0.74      0.69      4471\n",
            "weighted avg       0.78      0.70      0.71      4471\n",
            "\n"
          ],
          "name": "stdout"
        }
      ]
    },
    {
      "cell_type": "markdown",
      "metadata": {
        "id": "N7egkqXrYkrY"
      },
      "source": [
        "## **Selecting model and run accuracy test**"
      ]
    },
    {
      "cell_type": "markdown",
      "metadata": {
        "id": "RpHlsau7wXil"
      },
      "source": [
        " **Load Data Ramathibodi Hospital**"
      ]
    },
    {
      "cell_type": "code",
      "metadata": {
        "id": "v9JnXtI-8YRN"
      },
      "source": [
        "ramathibodi = pd.read_csv('/content/gdrive/My Drive/Colab Notebooks/Thesis_Text Analytics/ramathibodi-hospital-translated.csv', \n",
        "                          index_col=False, header = 0, names = ['reviews', 'ratings', 'dates', 'reviews_en'], parse_dates= ['dates'])"
      ],
      "execution_count": null,
      "outputs": []
    },
    {
      "cell_type": "code",
      "metadata": {
        "id": "NHe-3yXnN00Z",
        "colab": {
          "base_uri": "https://localhost:8080/"
        },
        "outputId": "9861ed50-3e7d-4f7b-f7b6-bba21fae1445"
      },
      "source": [
        "ramathibodi.shape"
      ],
      "execution_count": null,
      "outputs": [
        {
          "output_type": "execute_result",
          "data": {
            "text/plain": [
              "(211, 4)"
            ]
          },
          "metadata": {
            "tags": []
          },
          "execution_count": 30
        }
      ]
    },
    {
      "cell_type": "code",
      "metadata": {
        "id": "T5i1ycnZJRTF",
        "colab": {
          "base_uri": "https://localhost:8080/"
        },
        "outputId": "7577cf3e-7676-4f93-e1a6-7247e026f2ae"
      },
      "source": [
        "ramathibodi.head()"
      ],
      "execution_count": null,
      "outputs": [
        {
          "output_type": "execute_result",
          "data": {
            "text/html": [
              "<div>\n",
              "<style scoped>\n",
              "    .dataframe tbody tr th:only-of-type {\n",
              "        vertical-align: middle;\n",
              "    }\n",
              "\n",
              "    .dataframe tbody tr th {\n",
              "        vertical-align: top;\n",
              "    }\n",
              "\n",
              "    .dataframe thead th {\n",
              "        text-align: right;\n",
              "    }\n",
              "</style>\n",
              "<table border=\"1\" class=\"dataframe\">\n",
              "  <thead>\n",
              "    <tr style=\"text-align: right;\">\n",
              "      <th></th>\n",
              "      <th>reviews</th>\n",
              "      <th>ratings</th>\n",
              "      <th>dates</th>\n",
              "      <th>reviews_en</th>\n",
              "    </tr>\n",
              "  </thead>\n",
              "  <tbody>\n",
              "    <tr>\n",
              "      <th>0</th>\n",
              "      <td>เคยได้ไปลองใช้บริการคลีนิคนอกเวลาของรามาเมื่อต...</td>\n",
              "      <td>1</td>\n",
              "      <td>2019-07-29 13:14:00</td>\n",
              "      <td>I used to try out the clinic at Rama's office ...</td>\n",
              "    </tr>\n",
              "    <tr>\n",
              "      <th>1</th>\n",
              "      <td>ผมเคยไปทำเลสิกที่นี้ ดีมากครับตอนนี้ผ่ามาจะ2ปี...</td>\n",
              "      <td>1</td>\n",
              "      <td>2019-02-08 12:46:00</td>\n",
              "      <td>I've been to LASIK here. Very good, now it has...</td>\n",
              "    </tr>\n",
              "    <tr>\n",
              "      <th>2</th>\n",
              "      <td>รักษามาหลายปีแล้วตั้งแต่อายุ14 ตอนนี้จะจบปริญญ...</td>\n",
              "      <td>1</td>\n",
              "      <td>2019-01-17 21:48:00</td>\n",
              "      <td>Healed many years since the age of 14 Now I wi...</td>\n",
              "    </tr>\n",
              "    <tr>\n",
              "      <th>3</th>\n",
              "      <td>รักษามาหลายปีแล้วตั้งแต่อายุ14 ตอนนี้จะจบปริญญ...</td>\n",
              "      <td>1</td>\n",
              "      <td>2019-01-17 21:48:00</td>\n",
              "      <td>Healed many years since the age of 14 Now I wi...</td>\n",
              "    </tr>\n",
              "    <tr>\n",
              "      <th>4</th>\n",
              "      <td>Its a public hospital so service is bad (nurse...</td>\n",
              "      <td>1</td>\n",
              "      <td>2018-12-24 14:48:00</td>\n",
              "      <td>Its a public hospital so service is bad (nurse...</td>\n",
              "    </tr>\n",
              "  </tbody>\n",
              "</table>\n",
              "</div>"
            ],
            "text/plain": [
              "                                             reviews  ...                                         reviews_en\n",
              "0  เคยได้ไปลองใช้บริการคลีนิคนอกเวลาของรามาเมื่อต...  ...  I used to try out the clinic at Rama's office ...\n",
              "1  ผมเคยไปทำเลสิกที่นี้ ดีมากครับตอนนี้ผ่ามาจะ2ปี...  ...  I've been to LASIK here. Very good, now it has...\n",
              "2  รักษามาหลายปีแล้วตั้งแต่อายุ14 ตอนนี้จะจบปริญญ...  ...  Healed many years since the age of 14 Now I wi...\n",
              "3  รักษามาหลายปีแล้วตั้งแต่อายุ14 ตอนนี้จะจบปริญญ...  ...  Healed many years since the age of 14 Now I wi...\n",
              "4  Its a public hospital so service is bad (nurse...  ...  Its a public hospital so service is bad (nurse...\n",
              "\n",
              "[5 rows x 4 columns]"
            ]
          },
          "metadata": {
            "tags": []
          },
          "execution_count": 31
        }
      ]
    },
    {
      "cell_type": "code",
      "metadata": {
        "id": "cFblxmDBOgbG",
        "colab": {
          "base_uri": "https://localhost:8080/"
        },
        "outputId": "61c128e7-9e43-47f9-c2ee-97f212f410d7"
      },
      "source": [
        "ramathibodi.info()"
      ],
      "execution_count": null,
      "outputs": [
        {
          "output_type": "stream",
          "text": [
            "<class 'pandas.core.frame.DataFrame'>\n",
            "RangeIndex: 211 entries, 0 to 210\n",
            "Data columns (total 4 columns):\n",
            " #   Column      Non-Null Count  Dtype         \n",
            "---  ------      --------------  -----         \n",
            " 0   reviews     211 non-null    object        \n",
            " 1   ratings     211 non-null    int64         \n",
            " 2   dates       211 non-null    datetime64[ns]\n",
            " 3   reviews_en  211 non-null    object        \n",
            "dtypes: datetime64[ns](1), int64(1), object(2)\n",
            "memory usage: 6.7+ KB\n"
          ],
          "name": "stdout"
        }
      ]
    },
    {
      "cell_type": "code",
      "metadata": {
        "id": "6OnrSAvdxot-",
        "colab": {
          "base_uri": "https://localhost:8080/"
        },
        "outputId": "bddb43d3-ca19-4b64-a2ad-8ae2639811cb"
      },
      "source": [
        "ramathibodi[\"ratings\"].value_counts()"
      ],
      "execution_count": null,
      "outputs": [
        {
          "output_type": "execute_result",
          "data": {
            "text/plain": [
              "1    165\n",
              "0     46\n",
              "Name: ratings, dtype: int64"
            ]
          },
          "metadata": {
            "tags": []
          },
          "execution_count": 33
        }
      ]
    },
    {
      "cell_type": "code",
      "metadata": {
        "id": "lV6MWOZCOEK-",
        "colab": {
          "base_uri": "https://localhost:8080/"
        },
        "outputId": "e276ce1d-2795-444a-c416-3ae48cadbcd5"
      },
      "source": [
        "ramathibodi['ratings'].value_counts().plot(kind='bar');\n",
        "plt.xlabel(\"Class of ratings\", labelpad=14)\n",
        "plt.ylabel(\"Count\", labelpad=14)"
      ],
      "execution_count": null,
      "outputs": [
        {
          "output_type": "execute_result",
          "data": {
            "text/plain": [
              "Text(0, 0.5, 'Count')"
            ]
          },
          "metadata": {
            "tags": []
          },
          "execution_count": 34
        },
        {
          "output_type": "display_data",
          "data": {
            "image/png": "[encoded data removed]",
            "text/plain": [
              "<Figure size 432x288 with 1 Axes>"
            ]
          },
          "metadata": {
            "tags": [],
            "needs_background": "light"
          }
        }
      ]
    },
    {
      "cell_type": "markdown",
      "metadata": {
        "id": "mZW6fCU4r8ZU"
      },
      "source": [
        "## **Data Prepocessing**"
      ]
    },
    {
      "cell_type": "code",
      "metadata": {
        "id": "-tKaINmr8YRP",
        "colab": {
          "base_uri": "https://localhost:8080/"
        },
        "outputId": "b1abfd1e-84e0-46e5-deae-05a41af9965a"
      },
      "source": [
        "#Date string to Datetimestamp\n",
        "ramathibodi['dates'] = pd.to_datetime(ramathibodi[\"dates\"].dt.strftime('%Y-%m'))\n",
        "\n",
        "#Distinct date\n",
        "dt_date = list(set(ramathibodi['dates']))\n",
        "dt_date.sort()\n",
        "\n",
        "# convert date to  string and sort\n",
        "from datetime import datetime\n",
        "date_time_obj = [str(x)[:7]  for x in dt_date]\n",
        "print(date_time_obj)"
      ],
      "execution_count": null,
      "outputs": [
        {
          "output_type": "stream",
          "text": [
            "['2017-01', '2017-02', '2018-08', '2018-09', '2018-10', '2018-11', '2018-12', '2019-01', '2019-02', '2019-07']\n"
          ],
          "name": "stdout"
        }
      ]
    },
    {
      "cell_type": "code",
      "metadata": {
        "id": "AgwBuqYp8YRY"
      },
      "source": [
        "# create dataframe and extract data everymonth\n",
        "from dateutil.relativedelta import relativedelta\n",
        "for d in date_time_obj:\n",
        "    start = datetime.strptime(d , '%Y-%m')\n",
        "    end = datetime.strptime(d , '%Y-%m')+ relativedelta(months=1) \n",
        "    \n",
        "    mask = (ramathibodi['dates'] >= start) & (ramathibodi['dates'] < end)\n",
        "    df = pd.DataFrame(ramathibodi.loc[mask])\n",
        "    \n",
        "    d = re.sub('-', '', d)\n",
        "    exec(\"df\" + d + \" = df\") "
      ],
      "execution_count": null,
      "outputs": []
    },
    {
      "cell_type": "markdown",
      "metadata": {
        "id": "8Wro0sC38YRa"
      },
      "source": [
        "## **Modeling and Evaluation**  \n",
        "**Multinomial Naive Bayes**"
      ]
    },
    {
      "cell_type": "code",
      "metadata": {
        "id": "gws4q8859iQi",
        "colab": {
          "base_uri": "https://localhost:8080/"
        },
        "outputId": "a06226d0-478a-451e-b768-6e730aef697d"
      },
      "source": [
        "list_df = ['df201701', 'df201702', 'df201808', 'df201809', 'df201810', 'df201811', 'df201812', 'df201901', 'df201902', 'df201907']\n",
        "\n",
        "frames = []\n",
        "word_and_catagory  = []\n",
        "\n",
        "for month_df in list_df:\n",
        "    df_name  = globals()[month_df]\n",
        " \n",
        "    ramamonth_df = extract_sentences(df_name)\n",
        "    ramamonth_df[\"cleaned_reviews\"] = preprocess_review(ramamonth_df[\"reviews_en\"])\n",
        "    ramamonth_df[\"sentiments\"] = predict_sentiment(multinomial_nb_classifier ,ramamonth_df)\n",
        "    ramamonth_df[\"NP\"] = extract_noun_phrases(create_parsed_trees(ramamonth_df))\n",
        "    # print(ramamonth_df)\n",
        "\n",
        "    \n",
        "    #Evalution model\n",
        "    print(month_df)\n",
        "    y_true = ramamonth_df['ratings']\n",
        "    y_pred = list(ramamonth_df['sentiments'])\n",
        "    y_pred = [1 if x == 'positive' else 0 for x in y_pred]\n",
        "    # print(classification_report(y_true, y_pred))\n",
        "\n",
        "    #vizwordcloud(df_pos)\n",
        "    df_pos = get_data_for_wordcloud(ramamonth_df, \"positive\")\n",
        "    #vizwordcloud(df_neg)\n",
        "    df_neg = get_data_for_wordcloud(ramamonth_df, \"negative\")\n",
        "    \n",
        "   # word in catagory of df_pos and df_neg\n",
        "    word_and_catagory.append(df_pos)\n",
        "    word_and_catagory.append(df_neg)\n",
        "\n",
        "    #poscount\n",
        "    ramathibodi_poscount = catagory_pos(df_pos)                 \n",
        "    ramathibodi_negcount = catagory_neg(df_neg)\n",
        "    \n",
        "    \n",
        "    # Create DataFrame  \n",
        "    tmp_df = pd.DataFrame({'category': ['finance', 'infrastructure', 'process', 'service', 'staff']})\n",
        "    all_count_df = tmp_df.merge( ramathibodi_poscount.merge(ramathibodi_negcount, left_on='category', right_on='category', how='left', suffixes=('_pos', '_neg')), left_on='category', right_on='category', how='left', suffixes=('', ''))\n",
        "    all_count_df['date'] =  datetime.strptime(month_df[-6:] , '%Y%m')\n",
        "\n",
        "    all_count_df['count_pos'] = all_count_df['count_pos'].fillna(0)\n",
        "    all_count_df['count_neg'] = all_count_df['count_neg'].fillna(0)\n",
        "    all_count_df['total'] = all_count_df['count_pos'] + all_count_df['count_neg']\n",
        "\n",
        "    # append datframe to combine df\n",
        "    frames.append(all_count_df)\n",
        "\n",
        "    all_count_df = all_count_df.astype({\"category\": str, \"count_pos\": str, \"count_neg\": str, \"total\": str})\n",
        "    print(all_count_df)\n",
        "    print('-----------------------------------------------------------------------------------------------------')\n"
      ],
      "execution_count": null,
      "outputs": [
        {
          "output_type": "stream",
          "text": [
            "df201701\n",
            "         category count_pos count_neg       date total\n",
            "0         finance         1       0.0 2017-01-01   1.0\n",
            "1  infrastructure        29      10.0 2017-01-01  39.0\n",
            "2         process         7       4.0 2017-01-01  11.0\n",
            "3         service        21       6.0 2017-01-01  27.0\n",
            "4           staff        16       5.0 2017-01-01  21.0\n",
            "-----------------------------------------------------------------------------------------------------\n",
            "df201702\n",
            "         category count_pos count_neg       date total\n",
            "0         finance       0.0       0.0 2017-02-01   0.0\n",
            "1  infrastructure       7.0       0.0 2017-02-01   7.0\n",
            "2         process       5.0       0.0 2017-02-01   5.0\n",
            "3         service       9.0       0.0 2017-02-01   9.0\n",
            "4           staff       5.0       0.0 2017-02-01   5.0\n",
            "-----------------------------------------------------------------------------------------------------\n",
            "df201808\n",
            "         category count_pos count_neg       date total\n",
            "0         finance       0.0       0.0 2018-08-01   0.0\n",
            "1  infrastructure       2.0       0.0 2018-08-01   2.0\n",
            "2         process       1.0       0.0 2018-08-01   1.0\n",
            "3         service       1.0       0.0 2018-08-01   1.0\n",
            "4           staff       1.0       0.0 2018-08-01   1.0\n",
            "-----------------------------------------------------------------------------------------------------\n",
            "df201809\n",
            "         category count_pos count_neg       date total\n",
            "0         finance       0.0       0.0 2018-09-01   0.0\n",
            "1  infrastructure       2.0       0.0 2018-09-01   2.0\n",
            "2         process       1.0       0.0 2018-09-01   1.0\n",
            "3         service       2.0       0.0 2018-09-01   2.0\n",
            "4           staff       1.0       0.0 2018-09-01   1.0\n",
            "-----------------------------------------------------------------------------------------------------\n",
            "df201810\n",
            "         category count_pos count_neg       date total\n",
            "0         finance       0.0       0.0 2018-10-01   0.0\n",
            "1  infrastructure       1.0       0.0 2018-10-01   1.0\n",
            "2         process       3.0       1.0 2018-10-01   4.0\n",
            "3         service       7.0       0.0 2018-10-01   7.0\n",
            "4           staff       2.0       1.0 2018-10-01   3.0\n",
            "-----------------------------------------------------------------------------------------------------\n",
            "df201811\n",
            "         category count_pos count_neg       date total\n",
            "0         finance       0.0       0.0 2018-11-01   0.0\n",
            "1  infrastructure       1.0       0.0 2018-11-01   1.0\n",
            "2         process       0.0       0.0 2018-11-01   0.0\n",
            "3         service       3.0       0.0 2018-11-01   3.0\n",
            "4           staff       0.0       0.0 2018-11-01   0.0\n",
            "-----------------------------------------------------------------------------------------------------\n",
            "df201812\n",
            "         category count_pos count_neg       date total\n",
            "0         finance         2       1.0 2018-12-01   3.0\n",
            "1  infrastructure         5       1.0 2018-12-01   6.0\n",
            "2         process         5       0.0 2018-12-01   5.0\n",
            "3         service         7       0.0 2018-12-01   7.0\n",
            "4           staff         6       1.0 2018-12-01   7.0\n",
            "-----------------------------------------------------------------------------------------------------\n",
            "df201901\n",
            "         category count_pos count_neg       date total\n",
            "0         finance       0.0       0.0 2019-01-01   0.0\n",
            "1  infrastructure       2.0       0.0 2019-01-01   2.0\n",
            "2         process       0.0       0.0 2019-01-01   0.0\n",
            "3         service       3.0       0.0 2019-01-01   3.0\n",
            "4           staff       1.0       0.0 2019-01-01   1.0\n",
            "-----------------------------------------------------------------------------------------------------\n",
            "df201902\n",
            "         category count_pos count_neg       date total\n",
            "0         finance       1.0       0.0 2019-02-01   1.0\n",
            "1  infrastructure       0.0       0.0 2019-02-01   0.0\n",
            "2         process       0.0       0.0 2019-02-01   0.0\n",
            "3         service       1.0       0.0 2019-02-01   1.0\n",
            "4           staff       0.0       0.0 2019-02-01   0.0\n",
            "-----------------------------------------------------------------------------------------------------\n",
            "df201907\n",
            "         category count_pos count_neg       date total\n",
            "0         finance       0.0       0.0 2019-07-01   0.0\n",
            "1  infrastructure       1.0       0.0 2019-07-01   1.0\n",
            "2         process       1.0       0.0 2019-07-01   1.0\n",
            "3         service       2.0       0.0 2019-07-01   2.0\n",
            "4           staff       2.0       0.0 2019-07-01   2.0\n",
            "-----------------------------------------------------------------------------------------------------\n"
          ],
          "name": "stdout"
        }
      ]
    },
    {
      "cell_type": "code",
      "metadata": {
        "id": "f7JVAsucIt1e"
      },
      "source": [
        "#check  word to separate category\n",
        "concated = pd.DataFrame({'words' : [],\n",
        "                                        '#pos' : [],\n",
        "                                        'category' : []\n",
        "                                         } )\n",
        "\n",
        "for  view in word_and_catagory:\n",
        "  concated = pd.concat([concated,view], axis=0)\n",
        "concated\n",
        "concated.to_csv(\"word_and_catagory.csv\", index=False, encoding='utf-8-sig')\n"
      ],
      "execution_count": null,
      "outputs": []
    },
    {
      "cell_type": "code",
      "metadata": {
        "id": "tDxuOaXmQlV2",
        "colab": {
          "base_uri": "https://localhost:8080/"
        },
        "outputId": "4ec207ac-b44a-4eec-be95-0dcd81736687"
      },
      "source": [
        "#concate dataframe\n",
        "result_concate = pd.concat(frames)\n",
        "print(result_concate)\n",
        "result_concate.to_csv(\"ramathibodi_report_per_month.csv\", index=False, encoding='utf-8-sig')"
      ],
      "execution_count": null,
      "outputs": [
        {
          "output_type": "stream",
          "text": [
            "         category  count_pos  count_neg       date  total\n",
            "0         finance        1.0        0.0 2017-01-01    1.0\n",
            "1  infrastructure       29.0       10.0 2017-01-01   39.0\n",
            "2         process        7.0        4.0 2017-01-01   11.0\n",
            "3         service       21.0        6.0 2017-01-01   27.0\n",
            "4           staff       16.0        5.0 2017-01-01   21.0\n",
            "0         finance        0.0        0.0 2017-02-01    0.0\n",
            "1  infrastructure        7.0        0.0 2017-02-01    7.0\n",
            "2         process        5.0        0.0 2017-02-01    5.0\n",
            "3         service        9.0        0.0 2017-02-01    9.0\n",
            "4           staff        5.0        0.0 2017-02-01    5.0\n",
            "0         finance        0.0        0.0 2018-08-01    0.0\n",
            "1  infrastructure        2.0        0.0 2018-08-01    2.0\n",
            "2         process        1.0        0.0 2018-08-01    1.0\n",
            "3         service        1.0        0.0 2018-08-01    1.0\n",
            "4           staff        1.0        0.0 2018-08-01    1.0\n",
            "0         finance        0.0        0.0 2018-09-01    0.0\n",
            "1  infrastructure        2.0        0.0 2018-09-01    2.0\n",
            "2         process        1.0        0.0 2018-09-01    1.0\n",
            "3         service        2.0        0.0 2018-09-01    2.0\n",
            "4           staff        1.0        0.0 2018-09-01    1.0\n",
            "0         finance        0.0        0.0 2018-10-01    0.0\n",
            "1  infrastructure        1.0        0.0 2018-10-01    1.0\n",
            "2         process        3.0        1.0 2018-10-01    4.0\n",
            "3         service        7.0        0.0 2018-10-01    7.0\n",
            "4           staff        2.0        1.0 2018-10-01    3.0\n",
            "0         finance        0.0        0.0 2018-11-01    0.0\n",
            "1  infrastructure        1.0        0.0 2018-11-01    1.0\n",
            "2         process        0.0        0.0 2018-11-01    0.0\n",
            "3         service        3.0        0.0 2018-11-01    3.0\n",
            "4           staff        0.0        0.0 2018-11-01    0.0\n",
            "0         finance        2.0        1.0 2018-12-01    3.0\n",
            "1  infrastructure        5.0        1.0 2018-12-01    6.0\n",
            "2         process        5.0        0.0 2018-12-01    5.0\n",
            "3         service        7.0        0.0 2018-12-01    7.0\n",
            "4           staff        6.0        1.0 2018-12-01    7.0\n",
            "0         finance        0.0        0.0 2019-01-01    0.0\n",
            "1  infrastructure        2.0        0.0 2019-01-01    2.0\n",
            "2         process        0.0        0.0 2019-01-01    0.0\n",
            "3         service        3.0        0.0 2019-01-01    3.0\n",
            "4           staff        1.0        0.0 2019-01-01    1.0\n",
            "0         finance        1.0        0.0 2019-02-01    1.0\n",
            "1  infrastructure        0.0        0.0 2019-02-01    0.0\n",
            "2         process        0.0        0.0 2019-02-01    0.0\n",
            "3         service        1.0        0.0 2019-02-01    1.0\n",
            "4           staff        0.0        0.0 2019-02-01    0.0\n",
            "0         finance        0.0        0.0 2019-07-01    0.0\n",
            "1  infrastructure        1.0        0.0 2019-07-01    1.0\n",
            "2         process        1.0        0.0 2019-07-01    1.0\n",
            "3         service        2.0        0.0 2019-07-01    2.0\n",
            "4           staff        2.0        0.0 2019-07-01    2.0\n"
          ],
          "name": "stdout"
        }
      ]
    },
    {
      "cell_type": "markdown",
      "metadata": {
        "id": "XzgL9qh5tnKH"
      },
      "source": [
        "# **Sentiment Analysis of Ramathibodi Hospital** (Overview)"
      ]
    },
    {
      "cell_type": "code",
      "metadata": {
        "id": "qswABhjpu5aF"
      },
      "source": [
        "ramathibodi_copy = ramathibodi\n",
        "ramathibodi_copy = ramathibodi_copy.reset_index()\n",
        "ramathibodi_copy = extract_sentences(ramathibodi_copy) \n",
        "ramathibodi_copy[\"cleaned_reviews\"] = preprocess_review(ramathibodi_copy[\"reviews_en\"])"
      ],
      "execution_count": null,
      "outputs": []
    },
    {
      "cell_type": "code",
      "metadata": {
        "id": "4fgvZbH9ve_0"
      },
      "source": [
        "ramathibodi_copy[\"sentiments\"] = predict_sentiment(multinomial_nb_classifier ,ramathibodi_copy)"
      ],
      "execution_count": null,
      "outputs": []
    },
    {
      "cell_type": "code",
      "metadata": {
        "id": "Z2JledBUv1Si"
      },
      "source": [
        "ramathibodi_copy[\"NP\"] = extract_noun_phrases(create_parsed_trees(ramathibodi_copy))"
      ],
      "execution_count": null,
      "outputs": []
    },
    {
      "cell_type": "code",
      "metadata": {
        "id": "GY6jRta4wH2B",
        "colab": {
          "base_uri": "https://localhost:8080/"
        },
        "outputId": "379e5932-3fb9-48c9-8d05-5d42c35ba407"
      },
      "source": [
        "ramathibodi_copy.head(10)"
      ],
      "execution_count": null,
      "outputs": [
        {
          "output_type": "execute_result",
          "data": {
            "text/html": [
              "<div>\n",
              "<style scoped>\n",
              "    .dataframe tbody tr th:only-of-type {\n",
              "        vertical-align: middle;\n",
              "    }\n",
              "\n",
              "    .dataframe tbody tr th {\n",
              "        vertical-align: top;\n",
              "    }\n",
              "\n",
              "    .dataframe thead th {\n",
              "        text-align: right;\n",
              "    }\n",
              "</style>\n",
              "<table border=\"1\" class=\"dataframe\">\n",
              "  <thead>\n",
              "    <tr style=\"text-align: right;\">\n",
              "      <th></th>\n",
              "      <th>reviews_en</th>\n",
              "      <th>ratings</th>\n",
              "      <th>dates</th>\n",
              "      <th>cleaned_reviews</th>\n",
              "      <th>sentiments</th>\n",
              "      <th>NP</th>\n",
              "    </tr>\n",
              "  </thead>\n",
              "  <tbody>\n",
              "    <tr>\n",
              "      <th>0</th>\n",
              "      <td>I used to try out the clinic at Rama's office ...</td>\n",
              "      <td>1</td>\n",
              "      <td>2019-07-01</td>\n",
              "      <td>i use try clinic rama office earlier year</td>\n",
              "      <td>positive</td>\n",
              "      <td>[clinic, office, year]</td>\n",
              "    </tr>\n",
              "    <tr>\n",
              "      <th>1</th>\n",
              "      <td>Got into the upper laser treatment in the face...</td>\n",
              "      <td>1</td>\n",
              "      <td>2019-07-01</td>\n",
              "      <td>get upper laser treatment face phisobsol docto...</td>\n",
              "      <td>positive</td>\n",
              "      <td>[laser treatment, face, doctor, kind]</td>\n",
              "    </tr>\n",
              "    <tr>\n",
              "      <th>2</th>\n",
              "      <td>The queue is not long.</td>\n",
              "      <td>1</td>\n",
              "      <td>2019-07-01</td>\n",
              "      <td>the queue long</td>\n",
              "      <td>positive</td>\n",
              "      <td>[queue]</td>\n",
              "    </tr>\n",
              "    <tr>\n",
              "      <th>3</th>\n",
              "      <td>But have to call to reserve in advance Doctor'...</td>\n",
              "      <td>1</td>\n",
              "      <td>2019-07-01</td>\n",
              "      <td>but call reserve advance doctor love education...</td>\n",
              "      <td>positive</td>\n",
              "      <td>[advance, love education]</td>\n",
              "    </tr>\n",
              "    <tr>\n",
              "      <th>4</th>\n",
              "      <td>Less than 5 minutes to treat The results that ...</td>\n",
              "      <td>1</td>\n",
              "      <td>2019-07-01</td>\n",
              "      <td>less minute treat the result come marks face d...</td>\n",
              "      <td>positive</td>\n",
              "      <td>[minutes, results, marks, face]</td>\n",
              "    </tr>\n",
              "    <tr>\n",
              "      <th>5</th>\n",
              "      <td>The care of the nurse is not expensive too.</td>\n",
              "      <td>1</td>\n",
              "      <td>2019-07-01</td>\n",
              "      <td>the care nurse expensive</td>\n",
              "      <td>positive</td>\n",
              "      <td>[care, nurse]</td>\n",
              "    </tr>\n",
              "    <tr>\n",
              "      <th>6</th>\n",
              "      <td>I've been to LASIK here.</td>\n",
              "      <td>1</td>\n",
              "      <td>2019-02-01</td>\n",
              "      <td>i lasik</td>\n",
              "      <td>positive</td>\n",
              "      <td>[]</td>\n",
              "    </tr>\n",
              "    <tr>\n",
              "      <th>7</th>\n",
              "      <td>Very good, now it has been surgery for 2 years...</td>\n",
              "      <td>1</td>\n",
              "      <td>2019-02-01</td>\n",
              "      <td>very good surgery year side effect price also ...</td>\n",
              "      <td>positive</td>\n",
              "      <td>[years, side effects, price]</td>\n",
              "    </tr>\n",
              "    <tr>\n",
              "      <th>8</th>\n",
              "      <td>During the operation, it may seem a bit scary.</td>\n",
              "      <td>1</td>\n",
              "      <td>2019-02-01</td>\n",
              "      <td>during operation may seem bit scary</td>\n",
              "      <td>positive</td>\n",
              "      <td>[operation, bit]</td>\n",
              "    </tr>\n",
              "    <tr>\n",
              "      <th>9</th>\n",
              "      <td>But when it's time to dissect, it actually doe...</td>\n",
              "      <td>1</td>\n",
              "      <td>2019-02-01</td>\n",
              "      <td>but time dissect actually feel pain</td>\n",
              "      <td>positive</td>\n",
              "      <td>[time, pain]</td>\n",
              "    </tr>\n",
              "  </tbody>\n",
              "</table>\n",
              "</div>"
            ],
            "text/plain": [
              "                                          reviews_en  ...                                     NP\n",
              "0  I used to try out the clinic at Rama's office ...  ...                 [clinic, office, year]\n",
              "1  Got into the upper laser treatment in the face...  ...  [laser treatment, face, doctor, kind]\n",
              "2                             The queue is not long.  ...                                [queue]\n",
              "3  But have to call to reserve in advance Doctor'...  ...              [advance, love education]\n",
              "4  Less than 5 minutes to treat The results that ...  ...        [minutes, results, marks, face]\n",
              "5        The care of the nurse is not expensive too.  ...                          [care, nurse]\n",
              "6                           I've been to LASIK here.  ...                                     []\n",
              "7  Very good, now it has been surgery for 2 years...  ...           [years, side effects, price]\n",
              "8     During the operation, it may seem a bit scary.  ...                       [operation, bit]\n",
              "9  But when it's time to dissect, it actually doe...  ...                           [time, pain]\n",
              "\n",
              "[10 rows x 6 columns]"
            ]
          },
          "metadata": {
            "tags": []
          },
          "execution_count": 43
        }
      ]
    },
    {
      "cell_type": "code",
      "metadata": {
        "id": "yFVqD1iQcKiJ",
        "colab": {
          "base_uri": "https://localhost:8080/"
        },
        "outputId": "81305bbe-38da-4bf0-8d8e-b07d2b97d28f"
      },
      "source": [
        "ramathibodi_copy['sentiments'].value_counts().plot(kind='bar', figsize=(6, 4));\n",
        "plt.xlabel(\"Class of sentiment\", labelpad=14)\n",
        "plt.ylabel(\"Count\", labelpad=14)\n",
        "plt.title(\"Sentiment Frequency Chart\", y=1.02);"
      ],
      "execution_count": null,
      "outputs": [
        {
          "output_type": "display_data",
          "data": {
            "image/png": "[encoded data removed]",
            "text/plain": [
              "<Figure size 432x288 with 1 Axes>"
            ]
          },
          "metadata": {
            "tags": [],
            "needs_background": "light"
          }
        }
      ]
    },
    {
      "cell_type": "code",
      "metadata": {
        "id": "AKj891hdwLVC",
        "colab": {
          "base_uri": "https://localhost:8080/"
        },
        "outputId": "be326300-e372-4a03-cb9c-cf4db13e289d"
      },
      "source": [
        "y_true = ramathibodi_copy['ratings']\n",
        "y_pred = list(ramathibodi_copy['sentiments'])\n",
        "y_pred = [1 if x == 'positive' else 0 for x in y_pred]\n",
        "print(classification_report(y_true, y_pred))\n",
        "print(\"Accuracy : %.2f\" % accuracy_score(y_true, y_pred))"
      ],
      "execution_count": null,
      "outputs": [
        {
          "output_type": "stream",
          "text": [
            "              precision    recall  f1-score   support\n",
            "\n",
            "           0       0.67      0.42      0.51       214\n",
            "           1       0.79      0.91      0.85       511\n",
            "\n",
            "    accuracy                           0.77       725\n",
            "   macro avg       0.73      0.66      0.68       725\n",
            "weighted avg       0.75      0.77      0.75       725\n",
            "\n",
            "Accuracy : 0.77\n"
          ],
          "name": "stdout"
        }
      ]
    },
    {
      "cell_type": "code",
      "metadata": {
        "id": "gxZQl97e1W-E"
      },
      "source": [
        " #vizwordcloud(df_pos)\n",
        "df_pos = get_data_for_wordcloud(ramathibodi_copy, \"positive\")\n",
        "#vizwordcloud(df_neg)\n",
        "df_neg = get_data_for_wordcloud(ramathibodi_copy, \"negative\")"
      ],
      "execution_count": null,
      "outputs": []
    },
    {
      "cell_type": "code",
      "metadata": {
        "id": "oGD0TS9RxPzr"
      },
      "source": [
        "ramathibodi_positive = get_data_for_wordcloud(ramathibodi_copy, \"positive\")\n",
        "# vizwordcloud(ramathibodi_positive)"
      ],
      "execution_count": null,
      "outputs": []
    },
    {
      "cell_type": "code",
      "metadata": {
        "id": "Zwrn8wdH2VlM"
      },
      "source": [
        "ramathibodi_negative = get_data_for_wordcloud(ramathibodi_copy, \"negative\")\n",
        "# vizwordcloud(ramathibodi_negative, \"inferno\")"
      ],
      "execution_count": null,
      "outputs": []
    },
    {
      "cell_type": "code",
      "metadata": {
        "id": "EGUyRBF2RwJr"
      },
      "source": [
        "# df_pos\n",
        "df_pos = df_pos.sort_values(by=['#pos'], ascending=False)"
      ],
      "execution_count": null,
      "outputs": []
    },
    {
      "cell_type": "code",
      "metadata": {
        "id": "QUgNlJojy2zm"
      },
      "source": [
        "# df_neg\n",
        "df_neg = df_neg.sort_values(by=['#neg'], ascending=False)"
      ],
      "execution_count": null,
      "outputs": []
    },
    {
      "cell_type": "code",
      "metadata": {
        "id": "L2hMgPvXDI3J",
        "colab": {
          "base_uri": "https://localhost:8080/"
        },
        "outputId": "e6f6fa93-acdf-4c6b-cf95-1a087770abac"
      },
      "source": [
        "fig, ax = plt.subplots(figsize=(8, 8))\n",
        "# Plot horizontal bar graph\n",
        "df_pos[0:10].plot.barh(x='words', y='#pos',  ax=ax, color=\"green\")\n",
        "ax.set_title(\" Word found in positive comment \")\n",
        "ax.set_xlabel(\"word of frequency\")\n",
        "plt.show()"
      ],
      "execution_count": null,
      "outputs": [
        {
          "output_type": "display_data",
          "data": {
            "image/png": "[encoded data removed]",
            "text/plain": [
              "<Figure size 576x576 with 1 Axes>"
            ]
          },
          "metadata": {
            "tags": [],
            "needs_background": "light"
          }
        }
      ]
    },
    {
      "cell_type": "code",
      "metadata": {
        "id": "Sc-brXlC4R3q",
        "colab": {
          "base_uri": "https://localhost:8080/",
          "height": 513
        },
        "outputId": "d3406cff-f55b-42c3-9f4a-158abad89196"
      },
      "source": [
        "fig, ax = plt.subplots(figsize=(8, 8))\n",
        "# Plot horizontal bar graph\n",
        "df_neg[0:10].plot.barh(x='words', y='#neg',  ax=ax, color=\"red\")\n",
        "ax.set_title(\" Word found in negative comment \")\n",
        "ax.set_xlabel(\"word of frequency\")\n",
        "plt.show()\n",
        "plt.show()"
      ],
      "execution_count": null,
      "outputs": [
        {
          "output_type": "display_data",
          "data": {
            "image/png": "[encoded data removed]",
            "text/plain": [
              "<Figure size 576x576 with 1 Axes>"
            ]
          },
          "metadata": {
            "tags": [],
            "needs_background": "light"
          }
        }
      ]
    },
    {
      "cell_type": "code",
      "metadata": {
        "id": "iCdNKk36558H"
      },
      "source": [
        ""
      ],
      "execution_count": null,
      "outputs": []
    }
  ]
}